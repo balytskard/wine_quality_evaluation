{
  "cells": [
    {
      "cell_type": "markdown",
      "id": "77b65cbb",
      "metadata": {},
      "source": [
        "# Wine Quality Classifier Building"
      ]
    },
    {
      "cell_type": "markdown",
      "id": "c5b19f0e",
      "metadata": {
        "id": "c5b19f0e"
      },
      "source": [
        "## Exploring the datasets\n"
      ]
    },
    {
      "cell_type": "code",
      "execution_count": 2,
      "id": "d7587fb4",
      "metadata": {
        "id": "d7587fb4"
      },
      "outputs": [],
      "source": [
        "import pandas as pd\n",
        "import numpy as np"
      ]
    },
    {
      "cell_type": "code",
      "execution_count": 3,
      "id": "ef1367c0",
      "metadata": {
        "colab": {
          "base_uri": "https://localhost:8080/",
          "height": 206
        },
        "id": "ef1367c0",
        "outputId": "849e4571-1f49-43ba-e4df-af9ed0f9021d",
        "scrolled": true
      },
      "outputs": [
        {
          "data": {
            "text/html": [
              "<div>\n",
              "<style scoped>\n",
              "    .dataframe tbody tr th:only-of-type {\n",
              "        vertical-align: middle;\n",
              "    }\n",
              "\n",
              "    .dataframe tbody tr th {\n",
              "        vertical-align: top;\n",
              "    }\n",
              "\n",
              "    .dataframe thead th {\n",
              "        text-align: right;\n",
              "    }\n",
              "</style>\n",
              "<table border=\"1\" class=\"dataframe\">\n",
              "  <thead>\n",
              "    <tr style=\"text-align: right;\">\n",
              "      <th></th>\n",
              "      <th>fixed acidity;\"volatile acidity\";\"citric acid\";\"residual sugar\";\"chlorides\";\"free sulfur dioxide\";\"total sulfur dioxide\";\"density\";\"pH\";\"sulphates\";\"alcohol\";\"quality\"</th>\n",
              "    </tr>\n",
              "  </thead>\n",
              "  <tbody>\n",
              "    <tr>\n",
              "      <th>0</th>\n",
              "      <td>7;0.27;0.36;20.7;0.045;45;170;1.001;3;0.45;8.8;6</td>\n",
              "    </tr>\n",
              "    <tr>\n",
              "      <th>1</th>\n",
              "      <td>6.3;0.3;0.34;1.6;0.049;14;132;0.994;3.3;0.49;9...</td>\n",
              "    </tr>\n",
              "    <tr>\n",
              "      <th>2</th>\n",
              "      <td>8.1;0.28;0.4;6.9;0.05;30;97;0.9951;3.26;0.44;1...</td>\n",
              "    </tr>\n",
              "    <tr>\n",
              "      <th>3</th>\n",
              "      <td>7.2;0.23;0.32;8.5;0.058;47;186;0.9956;3.19;0.4...</td>\n",
              "    </tr>\n",
              "    <tr>\n",
              "      <th>4</th>\n",
              "      <td>7.2;0.23;0.32;8.5;0.058;47;186;0.9956;3.19;0.4...</td>\n",
              "    </tr>\n",
              "  </tbody>\n",
              "</table>\n",
              "</div>"
            ],
            "text/plain": [
              "  fixed acidity;\"volatile acidity\";\"citric acid\";\"residual sugar\";\"chlorides\";\"free sulfur dioxide\";\"total sulfur dioxide\";\"density\";\"pH\";\"sulphates\";\"alcohol\";\"quality\"\n",
              "0   7;0.27;0.36;20.7;0.045;45;170;1.001;3;0.45;8.8;6                                                                                                                     \n",
              "1  6.3;0.3;0.34;1.6;0.049;14;132;0.994;3.3;0.49;9...                                                                                                                     \n",
              "2  8.1;0.28;0.4;6.9;0.05;30;97;0.9951;3.26;0.44;1...                                                                                                                     \n",
              "3  7.2;0.23;0.32;8.5;0.058;47;186;0.9956;3.19;0.4...                                                                                                                     \n",
              "4  7.2;0.23;0.32;8.5;0.058;47;186;0.9956;3.19;0.4...                                                                                                                     "
            ]
          },
          "execution_count": 3,
          "metadata": {},
          "output_type": "execute_result"
        }
      ],
      "source": [
        "df_white = pd.read_csv('data/winequality-white.csv')\n",
        "df_white.head()"
      ]
    },
    {
      "cell_type": "code",
      "execution_count": 4,
      "id": "0077cd8c",
      "metadata": {
        "colab": {
          "base_uri": "https://localhost:8080/",
          "height": 206
        },
        "id": "0077cd8c",
        "outputId": "646b6f65-e842-4824-d176-06727cc5c9e5"
      },
      "outputs": [
        {
          "data": {
            "text/html": [
              "<div>\n",
              "<style scoped>\n",
              "    .dataframe tbody tr th:only-of-type {\n",
              "        vertical-align: middle;\n",
              "    }\n",
              "\n",
              "    .dataframe tbody tr th {\n",
              "        vertical-align: top;\n",
              "    }\n",
              "\n",
              "    .dataframe thead th {\n",
              "        text-align: right;\n",
              "    }\n",
              "</style>\n",
              "<table border=\"1\" class=\"dataframe\">\n",
              "  <thead>\n",
              "    <tr style=\"text-align: right;\">\n",
              "      <th></th>\n",
              "      <th>fixed acidity;\"volatile acidity\";\"citric acid\";\"residual sugar\";\"chlorides\";\"free sulfur dioxide\";\"total sulfur dioxide\";\"density\";\"pH\";\"sulphates\";\"alcohol\";\"quality\"</th>\n",
              "    </tr>\n",
              "  </thead>\n",
              "  <tbody>\n",
              "    <tr>\n",
              "      <th>0</th>\n",
              "      <td>7.4;0.7;0;1.9;0.076;11;34;0.9978;3.51;0.56;9.4;5</td>\n",
              "    </tr>\n",
              "    <tr>\n",
              "      <th>1</th>\n",
              "      <td>7.8;0.88;0;2.6;0.098;25;67;0.9968;3.2;0.68;9.8;5</td>\n",
              "    </tr>\n",
              "    <tr>\n",
              "      <th>2</th>\n",
              "      <td>7.8;0.76;0.04;2.3;0.092;15;54;0.997;3.26;0.65;...</td>\n",
              "    </tr>\n",
              "    <tr>\n",
              "      <th>3</th>\n",
              "      <td>11.2;0.28;0.56;1.9;0.075;17;60;0.998;3.16;0.58...</td>\n",
              "    </tr>\n",
              "    <tr>\n",
              "      <th>4</th>\n",
              "      <td>7.4;0.7;0;1.9;0.076;11;34;0.9978;3.51;0.56;9.4;5</td>\n",
              "    </tr>\n",
              "  </tbody>\n",
              "</table>\n",
              "</div>"
            ],
            "text/plain": [
              "  fixed acidity;\"volatile acidity\";\"citric acid\";\"residual sugar\";\"chlorides\";\"free sulfur dioxide\";\"total sulfur dioxide\";\"density\";\"pH\";\"sulphates\";\"alcohol\";\"quality\"\n",
              "0   7.4;0.7;0;1.9;0.076;11;34;0.9978;3.51;0.56;9.4;5                                                                                                                     \n",
              "1   7.8;0.88;0;2.6;0.098;25;67;0.9968;3.2;0.68;9.8;5                                                                                                                     \n",
              "2  7.8;0.76;0.04;2.3;0.092;15;54;0.997;3.26;0.65;...                                                                                                                     \n",
              "3  11.2;0.28;0.56;1.9;0.075;17;60;0.998;3.16;0.58...                                                                                                                     \n",
              "4   7.4;0.7;0;1.9;0.076;11;34;0.9978;3.51;0.56;9.4;5                                                                                                                     "
            ]
          },
          "execution_count": 4,
          "metadata": {},
          "output_type": "execute_result"
        }
      ],
      "source": [
        "df_red = pd.read_csv('data/winequality-red.csv')\n",
        "df_red.head()"
      ]
    },
    {
      "cell_type": "code",
      "execution_count": 5,
      "id": "21ede3e9",
      "metadata": {
        "colab": {
          "base_uri": "https://localhost:8080/"
        },
        "id": "21ede3e9",
        "outputId": "a65e86ef-c93a-4da6-8d14-78e05f4e7f41"
      },
      "outputs": [
        {
          "data": {
            "text/plain": [
              "(Index(['fixed acidity;\"volatile acidity\";\"citric acid\";\"residual sugar\";\"chlorides\";\"free sulfur dioxide\";\"total sulfur dioxide\";\"density\";\"pH\";\"sulphates\";\"alcohol\";\"quality\"'], dtype='object'),\n",
              " Index(['fixed acidity;\"volatile acidity\";\"citric acid\";\"residual sugar\";\"chlorides\";\"free sulfur dioxide\";\"total sulfur dioxide\";\"density\";\"pH\";\"sulphates\";\"alcohol\";\"quality\"'], dtype='object'))"
            ]
          },
          "execution_count": 5,
          "metadata": {},
          "output_type": "execute_result"
        }
      ],
      "source": [
        "df_white.columns, df_red.columns"
      ]
    },
    {
      "cell_type": "code",
      "execution_count": 6,
      "id": "069acfa4",
      "metadata": {
        "id": "069acfa4"
      },
      "outputs": [],
      "source": [
        "import re\n",
        "\n",
        "\n",
        "# Splitting all data into appropriate columns\n",
        "def normalize_dataframe_view(df):\n",
        "    new_df = df_white.iloc[:, 0].str.split(';', expand=True)\n",
        "    column_names = df_white.columns.astype(str)[0].split(';')\n",
        "\n",
        "    quotes = r'\"'\n",
        "    space = r'\\s'\n",
        "    for col_num in range(len(column_names)):\n",
        "        without_quotation = re.sub(quotes, '', column_names[col_num])\n",
        "        new_col_name = re.sub(space, '_', without_quotation)\n",
        "        column_names[col_num] = new_col_name\n",
        "\n",
        "    new_df.columns = column_names\n",
        "\n",
        "    return new_df"
      ]
    },
    {
      "cell_type": "code",
      "execution_count": 7,
      "id": "643e0c16",
      "metadata": {
        "colab": {
          "base_uri": "https://localhost:8080/",
          "height": 206
        },
        "id": "643e0c16",
        "outputId": "7d858ab2-ebd6-4040-b81d-08dec538fb26"
      },
      "outputs": [
        {
          "data": {
            "text/html": [
              "<div>\n",
              "<style scoped>\n",
              "    .dataframe tbody tr th:only-of-type {\n",
              "        vertical-align: middle;\n",
              "    }\n",
              "\n",
              "    .dataframe tbody tr th {\n",
              "        vertical-align: top;\n",
              "    }\n",
              "\n",
              "    .dataframe thead th {\n",
              "        text-align: right;\n",
              "    }\n",
              "</style>\n",
              "<table border=\"1\" class=\"dataframe\">\n",
              "  <thead>\n",
              "    <tr style=\"text-align: right;\">\n",
              "      <th></th>\n",
              "      <th>fixed_acidity</th>\n",
              "      <th>volatile_acidity</th>\n",
              "      <th>citric_acid</th>\n",
              "      <th>residual_sugar</th>\n",
              "      <th>chlorides</th>\n",
              "      <th>free_sulfur_dioxide</th>\n",
              "      <th>total_sulfur_dioxide</th>\n",
              "      <th>density</th>\n",
              "      <th>pH</th>\n",
              "      <th>sulphates</th>\n",
              "      <th>alcohol</th>\n",
              "      <th>quality</th>\n",
              "    </tr>\n",
              "  </thead>\n",
              "  <tbody>\n",
              "    <tr>\n",
              "      <th>0</th>\n",
              "      <td>7</td>\n",
              "      <td>0.27</td>\n",
              "      <td>0.36</td>\n",
              "      <td>20.7</td>\n",
              "      <td>0.045</td>\n",
              "      <td>45</td>\n",
              "      <td>170</td>\n",
              "      <td>1.001</td>\n",
              "      <td>3</td>\n",
              "      <td>0.45</td>\n",
              "      <td>8.8</td>\n",
              "      <td>6</td>\n",
              "    </tr>\n",
              "    <tr>\n",
              "      <th>1</th>\n",
              "      <td>6.3</td>\n",
              "      <td>0.3</td>\n",
              "      <td>0.34</td>\n",
              "      <td>1.6</td>\n",
              "      <td>0.049</td>\n",
              "      <td>14</td>\n",
              "      <td>132</td>\n",
              "      <td>0.994</td>\n",
              "      <td>3.3</td>\n",
              "      <td>0.49</td>\n",
              "      <td>9.5</td>\n",
              "      <td>6</td>\n",
              "    </tr>\n",
              "    <tr>\n",
              "      <th>2</th>\n",
              "      <td>8.1</td>\n",
              "      <td>0.28</td>\n",
              "      <td>0.4</td>\n",
              "      <td>6.9</td>\n",
              "      <td>0.05</td>\n",
              "      <td>30</td>\n",
              "      <td>97</td>\n",
              "      <td>0.9951</td>\n",
              "      <td>3.26</td>\n",
              "      <td>0.44</td>\n",
              "      <td>10.1</td>\n",
              "      <td>6</td>\n",
              "    </tr>\n",
              "    <tr>\n",
              "      <th>3</th>\n",
              "      <td>7.2</td>\n",
              "      <td>0.23</td>\n",
              "      <td>0.32</td>\n",
              "      <td>8.5</td>\n",
              "      <td>0.058</td>\n",
              "      <td>47</td>\n",
              "      <td>186</td>\n",
              "      <td>0.9956</td>\n",
              "      <td>3.19</td>\n",
              "      <td>0.4</td>\n",
              "      <td>9.9</td>\n",
              "      <td>6</td>\n",
              "    </tr>\n",
              "    <tr>\n",
              "      <th>4</th>\n",
              "      <td>7.2</td>\n",
              "      <td>0.23</td>\n",
              "      <td>0.32</td>\n",
              "      <td>8.5</td>\n",
              "      <td>0.058</td>\n",
              "      <td>47</td>\n",
              "      <td>186</td>\n",
              "      <td>0.9956</td>\n",
              "      <td>3.19</td>\n",
              "      <td>0.4</td>\n",
              "      <td>9.9</td>\n",
              "      <td>6</td>\n",
              "    </tr>\n",
              "  </tbody>\n",
              "</table>\n",
              "</div>"
            ],
            "text/plain": [
              "  fixed_acidity volatile_acidity citric_acid residual_sugar chlorides  \\\n",
              "0             7             0.27        0.36           20.7     0.045   \n",
              "1           6.3              0.3        0.34            1.6     0.049   \n",
              "2           8.1             0.28         0.4            6.9      0.05   \n",
              "3           7.2             0.23        0.32            8.5     0.058   \n",
              "4           7.2             0.23        0.32            8.5     0.058   \n",
              "\n",
              "  free_sulfur_dioxide total_sulfur_dioxide density    pH sulphates alcohol  \\\n",
              "0                  45                  170   1.001     3      0.45     8.8   \n",
              "1                  14                  132   0.994   3.3      0.49     9.5   \n",
              "2                  30                   97  0.9951  3.26      0.44    10.1   \n",
              "3                  47                  186  0.9956  3.19       0.4     9.9   \n",
              "4                  47                  186  0.9956  3.19       0.4     9.9   \n",
              "\n",
              "  quality  \n",
              "0       6  \n",
              "1       6  \n",
              "2       6  \n",
              "3       6  \n",
              "4       6  "
            ]
          },
          "execution_count": 7,
          "metadata": {},
          "output_type": "execute_result"
        }
      ],
      "source": [
        "data_white, data_red = normalize_dataframe_view(df_white), normalize_dataframe_view(df_red)\n",
        "data_white.head()"
      ]
    },
    {
      "cell_type": "code",
      "execution_count": 8,
      "id": "91d9da26",
      "metadata": {
        "colab": {
          "base_uri": "https://localhost:8080/",
          "height": 206
        },
        "id": "91d9da26",
        "outputId": "ed16844a-7849-4994-d84c-d6090aac8cb3"
      },
      "outputs": [
        {
          "data": {
            "text/html": [
              "<div>\n",
              "<style scoped>\n",
              "    .dataframe tbody tr th:only-of-type {\n",
              "        vertical-align: middle;\n",
              "    }\n",
              "\n",
              "    .dataframe tbody tr th {\n",
              "        vertical-align: top;\n",
              "    }\n",
              "\n",
              "    .dataframe thead th {\n",
              "        text-align: right;\n",
              "    }\n",
              "</style>\n",
              "<table border=\"1\" class=\"dataframe\">\n",
              "  <thead>\n",
              "    <tr style=\"text-align: right;\">\n",
              "      <th></th>\n",
              "      <th>fixed_acidity</th>\n",
              "      <th>volatile_acidity</th>\n",
              "      <th>citric_acid</th>\n",
              "      <th>residual_sugar</th>\n",
              "      <th>chlorides</th>\n",
              "      <th>free_sulfur_dioxide</th>\n",
              "      <th>total_sulfur_dioxide</th>\n",
              "      <th>density</th>\n",
              "      <th>pH</th>\n",
              "      <th>sulphates</th>\n",
              "      <th>alcohol</th>\n",
              "      <th>quality</th>\n",
              "    </tr>\n",
              "  </thead>\n",
              "  <tbody>\n",
              "    <tr>\n",
              "      <th>0</th>\n",
              "      <td>7</td>\n",
              "      <td>0.27</td>\n",
              "      <td>0.36</td>\n",
              "      <td>20.7</td>\n",
              "      <td>0.045</td>\n",
              "      <td>45</td>\n",
              "      <td>170</td>\n",
              "      <td>1.001</td>\n",
              "      <td>3</td>\n",
              "      <td>0.45</td>\n",
              "      <td>8.8</td>\n",
              "      <td>6</td>\n",
              "    </tr>\n",
              "    <tr>\n",
              "      <th>1</th>\n",
              "      <td>6.3</td>\n",
              "      <td>0.3</td>\n",
              "      <td>0.34</td>\n",
              "      <td>1.6</td>\n",
              "      <td>0.049</td>\n",
              "      <td>14</td>\n",
              "      <td>132</td>\n",
              "      <td>0.994</td>\n",
              "      <td>3.3</td>\n",
              "      <td>0.49</td>\n",
              "      <td>9.5</td>\n",
              "      <td>6</td>\n",
              "    </tr>\n",
              "    <tr>\n",
              "      <th>2</th>\n",
              "      <td>8.1</td>\n",
              "      <td>0.28</td>\n",
              "      <td>0.4</td>\n",
              "      <td>6.9</td>\n",
              "      <td>0.05</td>\n",
              "      <td>30</td>\n",
              "      <td>97</td>\n",
              "      <td>0.9951</td>\n",
              "      <td>3.26</td>\n",
              "      <td>0.44</td>\n",
              "      <td>10.1</td>\n",
              "      <td>6</td>\n",
              "    </tr>\n",
              "    <tr>\n",
              "      <th>3</th>\n",
              "      <td>7.2</td>\n",
              "      <td>0.23</td>\n",
              "      <td>0.32</td>\n",
              "      <td>8.5</td>\n",
              "      <td>0.058</td>\n",
              "      <td>47</td>\n",
              "      <td>186</td>\n",
              "      <td>0.9956</td>\n",
              "      <td>3.19</td>\n",
              "      <td>0.4</td>\n",
              "      <td>9.9</td>\n",
              "      <td>6</td>\n",
              "    </tr>\n",
              "    <tr>\n",
              "      <th>4</th>\n",
              "      <td>7.2</td>\n",
              "      <td>0.23</td>\n",
              "      <td>0.32</td>\n",
              "      <td>8.5</td>\n",
              "      <td>0.058</td>\n",
              "      <td>47</td>\n",
              "      <td>186</td>\n",
              "      <td>0.9956</td>\n",
              "      <td>3.19</td>\n",
              "      <td>0.4</td>\n",
              "      <td>9.9</td>\n",
              "      <td>6</td>\n",
              "    </tr>\n",
              "  </tbody>\n",
              "</table>\n",
              "</div>"
            ],
            "text/plain": [
              "  fixed_acidity volatile_acidity citric_acid residual_sugar chlorides  \\\n",
              "0             7             0.27        0.36           20.7     0.045   \n",
              "1           6.3              0.3        0.34            1.6     0.049   \n",
              "2           8.1             0.28         0.4            6.9      0.05   \n",
              "3           7.2             0.23        0.32            8.5     0.058   \n",
              "4           7.2             0.23        0.32            8.5     0.058   \n",
              "\n",
              "  free_sulfur_dioxide total_sulfur_dioxide density    pH sulphates alcohol  \\\n",
              "0                  45                  170   1.001     3      0.45     8.8   \n",
              "1                  14                  132   0.994   3.3      0.49     9.5   \n",
              "2                  30                   97  0.9951  3.26      0.44    10.1   \n",
              "3                  47                  186  0.9956  3.19       0.4     9.9   \n",
              "4                  47                  186  0.9956  3.19       0.4     9.9   \n",
              "\n",
              "  quality  \n",
              "0       6  \n",
              "1       6  \n",
              "2       6  \n",
              "3       6  \n",
              "4       6  "
            ]
          },
          "execution_count": 8,
          "metadata": {},
          "output_type": "execute_result"
        }
      ],
      "source": [
        "data_red.head()"
      ]
    },
    {
      "cell_type": "markdown",
      "id": "NangFS9wCMeZ",
      "metadata": {
        "id": "NangFS9wCMeZ"
      },
      "source": [
        "## Data Processing"
      ]
    },
    {
      "cell_type": "code",
      "execution_count": 9,
      "id": "555d9407",
      "metadata": {
        "colab": {
          "base_uri": "https://localhost:8080/"
        },
        "id": "555d9407",
        "outputId": "89f58410-fd3c-442e-d356-341531f6874c"
      },
      "outputs": [
        {
          "data": {
            "text/plain": [
              "(fixed_acidity           object\n",
              " volatile_acidity        object\n",
              " citric_acid             object\n",
              " residual_sugar          object\n",
              " chlorides               object\n",
              " free_sulfur_dioxide     object\n",
              " total_sulfur_dioxide    object\n",
              " density                 object\n",
              " pH                      object\n",
              " sulphates               object\n",
              " alcohol                 object\n",
              " quality                 object\n",
              " dtype: object,\n",
              " fixed_acidity           object\n",
              " volatile_acidity        object\n",
              " citric_acid             object\n",
              " residual_sugar          object\n",
              " chlorides               object\n",
              " free_sulfur_dioxide     object\n",
              " total_sulfur_dioxide    object\n",
              " density                 object\n",
              " pH                      object\n",
              " sulphates               object\n",
              " alcohol                 object\n",
              " quality                 object\n",
              " dtype: object)"
            ]
          },
          "execution_count": 9,
          "metadata": {},
          "output_type": "execute_result"
        }
      ],
      "source": [
        "data_white.dtypes, data_red.dtypes"
      ]
    },
    {
      "cell_type": "code",
      "execution_count": 10,
      "id": "cb5858d7",
      "metadata": {
        "id": "cb5858d7"
      },
      "outputs": [
        {
          "data": {
            "text/plain": [
              "(fixed_acidity           float64\n",
              " volatile_acidity        float64\n",
              " citric_acid             float64\n",
              " residual_sugar          float64\n",
              " chlorides               float64\n",
              " free_sulfur_dioxide     float64\n",
              " total_sulfur_dioxide    float64\n",
              " density                 float64\n",
              " pH                      float64\n",
              " sulphates               float64\n",
              " alcohol                 float64\n",
              " quality                 float64\n",
              " dtype: object,\n",
              " fixed_acidity           float64\n",
              " volatile_acidity        float64\n",
              " citric_acid             float64\n",
              " residual_sugar          float64\n",
              " chlorides               float64\n",
              " free_sulfur_dioxide     float64\n",
              " total_sulfur_dioxide    float64\n",
              " density                 float64\n",
              " pH                      float64\n",
              " sulphates               float64\n",
              " alcohol                 float64\n",
              " quality                 float64\n",
              " dtype: object)"
            ]
          },
          "execution_count": 10,
          "metadata": {},
          "output_type": "execute_result"
        }
      ],
      "source": [
        "# Change the data type in dataframes\n",
        "def change_data_type(df):\n",
        "    for col in df.columns:\n",
        "        df[col] = df[col].astype(float)\n",
        "\n",
        "    return df\n",
        "\n",
        "\n",
        "data_white, data_red = change_data_type(data_white), change_data_type(data_red)\n",
        "data_white.dtypes, data_red.dtypes"
      ]
    },
    {
      "cell_type": "code",
      "execution_count": 11,
      "id": "f9f669f9",
      "metadata": {
        "colab": {
          "base_uri": "https://localhost:8080/"
        },
        "id": "f9f669f9",
        "outputId": "ece009db-282a-4710-9609-a18ac4850143"
      },
      "outputs": [
        {
          "data": {
            "text/plain": [
              "(fixed_acidity           0\n",
              " volatile_acidity        0\n",
              " citric_acid             0\n",
              " residual_sugar          0\n",
              " chlorides               0\n",
              " free_sulfur_dioxide     0\n",
              " total_sulfur_dioxide    0\n",
              " density                 0\n",
              " pH                      0\n",
              " sulphates               0\n",
              " alcohol                 0\n",
              " quality                 0\n",
              " dtype: int64,\n",
              " fixed_acidity           0\n",
              " volatile_acidity        0\n",
              " citric_acid             0\n",
              " residual_sugar          0\n",
              " chlorides               0\n",
              " free_sulfur_dioxide     0\n",
              " total_sulfur_dioxide    0\n",
              " density                 0\n",
              " pH                      0\n",
              " sulphates               0\n",
              " alcohol                 0\n",
              " quality                 0\n",
              " dtype: int64)"
            ]
          },
          "execution_count": 11,
          "metadata": {},
          "output_type": "execute_result"
        }
      ],
      "source": [
        "data_white.isna().sum(), data_red.isna().sum()"
      ]
    },
    {
      "cell_type": "code",
      "execution_count": 12,
      "id": "ba381eae",
      "metadata": {
        "colab": {
          "base_uri": "https://localhost:8080/"
        },
        "id": "ba381eae",
        "outputId": "1722a054-016d-467e-a7ca-0f574354affc"
      },
      "outputs": [
        {
          "data": {
            "text/html": [
              "<div>\n",
              "<style scoped>\n",
              "    .dataframe tbody tr th:only-of-type {\n",
              "        vertical-align: middle;\n",
              "    }\n",
              "\n",
              "    .dataframe tbody tr th {\n",
              "        vertical-align: top;\n",
              "    }\n",
              "\n",
              "    .dataframe thead th {\n",
              "        text-align: right;\n",
              "    }\n",
              "</style>\n",
              "<table border=\"1\" class=\"dataframe\">\n",
              "  <thead>\n",
              "    <tr style=\"text-align: right;\">\n",
              "      <th></th>\n",
              "      <th>color</th>\n",
              "      <th>fixed_acidity</th>\n",
              "      <th>volatile_acidity</th>\n",
              "      <th>citric_acid</th>\n",
              "      <th>residual_sugar</th>\n",
              "      <th>chlorides</th>\n",
              "      <th>free_sulfur_dioxide</th>\n",
              "      <th>total_sulfur_dioxide</th>\n",
              "      <th>density</th>\n",
              "      <th>pH</th>\n",
              "      <th>sulphates</th>\n",
              "      <th>alcohol</th>\n",
              "      <th>quality</th>\n",
              "    </tr>\n",
              "  </thead>\n",
              "  <tbody>\n",
              "    <tr>\n",
              "      <th>0</th>\n",
              "      <td>white</td>\n",
              "      <td>7.0</td>\n",
              "      <td>0.27</td>\n",
              "      <td>0.36</td>\n",
              "      <td>20.7</td>\n",
              "      <td>0.045</td>\n",
              "      <td>45.0</td>\n",
              "      <td>170.0</td>\n",
              "      <td>1.00100</td>\n",
              "      <td>3.00</td>\n",
              "      <td>0.45</td>\n",
              "      <td>8.8</td>\n",
              "      <td>6.0</td>\n",
              "    </tr>\n",
              "    <tr>\n",
              "      <th>1</th>\n",
              "      <td>white</td>\n",
              "      <td>6.3</td>\n",
              "      <td>0.30</td>\n",
              "      <td>0.34</td>\n",
              "      <td>1.6</td>\n",
              "      <td>0.049</td>\n",
              "      <td>14.0</td>\n",
              "      <td>132.0</td>\n",
              "      <td>0.99400</td>\n",
              "      <td>3.30</td>\n",
              "      <td>0.49</td>\n",
              "      <td>9.5</td>\n",
              "      <td>6.0</td>\n",
              "    </tr>\n",
              "    <tr>\n",
              "      <th>2</th>\n",
              "      <td>white</td>\n",
              "      <td>8.1</td>\n",
              "      <td>0.28</td>\n",
              "      <td>0.40</td>\n",
              "      <td>6.9</td>\n",
              "      <td>0.050</td>\n",
              "      <td>30.0</td>\n",
              "      <td>97.0</td>\n",
              "      <td>0.99510</td>\n",
              "      <td>3.26</td>\n",
              "      <td>0.44</td>\n",
              "      <td>10.1</td>\n",
              "      <td>6.0</td>\n",
              "    </tr>\n",
              "    <tr>\n",
              "      <th>3</th>\n",
              "      <td>white</td>\n",
              "      <td>7.2</td>\n",
              "      <td>0.23</td>\n",
              "      <td>0.32</td>\n",
              "      <td>8.5</td>\n",
              "      <td>0.058</td>\n",
              "      <td>47.0</td>\n",
              "      <td>186.0</td>\n",
              "      <td>0.99560</td>\n",
              "      <td>3.19</td>\n",
              "      <td>0.40</td>\n",
              "      <td>9.9</td>\n",
              "      <td>6.0</td>\n",
              "    </tr>\n",
              "    <tr>\n",
              "      <th>4</th>\n",
              "      <td>white</td>\n",
              "      <td>7.2</td>\n",
              "      <td>0.23</td>\n",
              "      <td>0.32</td>\n",
              "      <td>8.5</td>\n",
              "      <td>0.058</td>\n",
              "      <td>47.0</td>\n",
              "      <td>186.0</td>\n",
              "      <td>0.99560</td>\n",
              "      <td>3.19</td>\n",
              "      <td>0.40</td>\n",
              "      <td>9.9</td>\n",
              "      <td>6.0</td>\n",
              "    </tr>\n",
              "    <tr>\n",
              "      <th>...</th>\n",
              "      <td>...</td>\n",
              "      <td>...</td>\n",
              "      <td>...</td>\n",
              "      <td>...</td>\n",
              "      <td>...</td>\n",
              "      <td>...</td>\n",
              "      <td>...</td>\n",
              "      <td>...</td>\n",
              "      <td>...</td>\n",
              "      <td>...</td>\n",
              "      <td>...</td>\n",
              "      <td>...</td>\n",
              "      <td>...</td>\n",
              "    </tr>\n",
              "    <tr>\n",
              "      <th>9791</th>\n",
              "      <td>red</td>\n",
              "      <td>6.2</td>\n",
              "      <td>0.21</td>\n",
              "      <td>0.29</td>\n",
              "      <td>1.6</td>\n",
              "      <td>0.039</td>\n",
              "      <td>24.0</td>\n",
              "      <td>92.0</td>\n",
              "      <td>0.99114</td>\n",
              "      <td>3.27</td>\n",
              "      <td>0.50</td>\n",
              "      <td>11.2</td>\n",
              "      <td>6.0</td>\n",
              "    </tr>\n",
              "    <tr>\n",
              "      <th>9792</th>\n",
              "      <td>red</td>\n",
              "      <td>6.6</td>\n",
              "      <td>0.32</td>\n",
              "      <td>0.36</td>\n",
              "      <td>8.0</td>\n",
              "      <td>0.047</td>\n",
              "      <td>57.0</td>\n",
              "      <td>168.0</td>\n",
              "      <td>0.99490</td>\n",
              "      <td>3.15</td>\n",
              "      <td>0.46</td>\n",
              "      <td>9.6</td>\n",
              "      <td>5.0</td>\n",
              "    </tr>\n",
              "    <tr>\n",
              "      <th>9793</th>\n",
              "      <td>red</td>\n",
              "      <td>6.5</td>\n",
              "      <td>0.24</td>\n",
              "      <td>0.19</td>\n",
              "      <td>1.2</td>\n",
              "      <td>0.041</td>\n",
              "      <td>30.0</td>\n",
              "      <td>111.0</td>\n",
              "      <td>0.99254</td>\n",
              "      <td>2.99</td>\n",
              "      <td>0.46</td>\n",
              "      <td>9.4</td>\n",
              "      <td>6.0</td>\n",
              "    </tr>\n",
              "    <tr>\n",
              "      <th>9794</th>\n",
              "      <td>red</td>\n",
              "      <td>5.5</td>\n",
              "      <td>0.29</td>\n",
              "      <td>0.30</td>\n",
              "      <td>1.1</td>\n",
              "      <td>0.022</td>\n",
              "      <td>20.0</td>\n",
              "      <td>110.0</td>\n",
              "      <td>0.98869</td>\n",
              "      <td>3.34</td>\n",
              "      <td>0.38</td>\n",
              "      <td>12.8</td>\n",
              "      <td>7.0</td>\n",
              "    </tr>\n",
              "    <tr>\n",
              "      <th>9795</th>\n",
              "      <td>red</td>\n",
              "      <td>6.0</td>\n",
              "      <td>0.21</td>\n",
              "      <td>0.38</td>\n",
              "      <td>0.8</td>\n",
              "      <td>0.020</td>\n",
              "      <td>22.0</td>\n",
              "      <td>98.0</td>\n",
              "      <td>0.98941</td>\n",
              "      <td>3.26</td>\n",
              "      <td>0.32</td>\n",
              "      <td>11.8</td>\n",
              "      <td>6.0</td>\n",
              "    </tr>\n",
              "  </tbody>\n",
              "</table>\n",
              "<p>9796 rows × 13 columns</p>\n",
              "</div>"
            ],
            "text/plain": [
              "      color  fixed_acidity  volatile_acidity  citric_acid  residual_sugar  \\\n",
              "0     white            7.0              0.27         0.36            20.7   \n",
              "1     white            6.3              0.30         0.34             1.6   \n",
              "2     white            8.1              0.28         0.40             6.9   \n",
              "3     white            7.2              0.23         0.32             8.5   \n",
              "4     white            7.2              0.23         0.32             8.5   \n",
              "...     ...            ...               ...          ...             ...   \n",
              "9791    red            6.2              0.21         0.29             1.6   \n",
              "9792    red            6.6              0.32         0.36             8.0   \n",
              "9793    red            6.5              0.24         0.19             1.2   \n",
              "9794    red            5.5              0.29         0.30             1.1   \n",
              "9795    red            6.0              0.21         0.38             0.8   \n",
              "\n",
              "      chlorides  free_sulfur_dioxide  total_sulfur_dioxide  density    pH  \\\n",
              "0         0.045                 45.0                 170.0  1.00100  3.00   \n",
              "1         0.049                 14.0                 132.0  0.99400  3.30   \n",
              "2         0.050                 30.0                  97.0  0.99510  3.26   \n",
              "3         0.058                 47.0                 186.0  0.99560  3.19   \n",
              "4         0.058                 47.0                 186.0  0.99560  3.19   \n",
              "...         ...                  ...                   ...      ...   ...   \n",
              "9791      0.039                 24.0                  92.0  0.99114  3.27   \n",
              "9792      0.047                 57.0                 168.0  0.99490  3.15   \n",
              "9793      0.041                 30.0                 111.0  0.99254  2.99   \n",
              "9794      0.022                 20.0                 110.0  0.98869  3.34   \n",
              "9795      0.020                 22.0                  98.0  0.98941  3.26   \n",
              "\n",
              "      sulphates  alcohol  quality  \n",
              "0          0.45      8.8      6.0  \n",
              "1          0.49      9.5      6.0  \n",
              "2          0.44     10.1      6.0  \n",
              "3          0.40      9.9      6.0  \n",
              "4          0.40      9.9      6.0  \n",
              "...         ...      ...      ...  \n",
              "9791       0.50     11.2      6.0  \n",
              "9792       0.46      9.6      5.0  \n",
              "9793       0.46      9.4      6.0  \n",
              "9794       0.38     12.8      7.0  \n",
              "9795       0.32     11.8      6.0  \n",
              "\n",
              "[9796 rows x 13 columns]"
            ]
          },
          "execution_count": 12,
          "metadata": {},
          "output_type": "execute_result"
        }
      ],
      "source": [
        "# Creation one dataframe for both types of the wine\n",
        "data_white.insert(0, 'color', 'white')\n",
        "data_red.insert(0, 'color', 'red')\n",
        "data_wine = pd.concat([data_white, data_red], ignore_index=True)\n",
        "data_wine"
      ]
    },
    {
      "cell_type": "code",
      "execution_count": 13,
      "id": "f5882905",
      "metadata": {
        "colab": {
          "base_uri": "https://localhost:8080/",
          "height": 300
        },
        "id": "f5882905",
        "outputId": "fa54395b-51c7-47fa-aff0-5ba6054ba2a7"
      },
      "outputs": [
        {
          "data": {
            "text/html": [
              "<div>\n",
              "<style scoped>\n",
              "    .dataframe tbody tr th:only-of-type {\n",
              "        vertical-align: middle;\n",
              "    }\n",
              "\n",
              "    .dataframe tbody tr th {\n",
              "        vertical-align: top;\n",
              "    }\n",
              "\n",
              "    .dataframe thead th {\n",
              "        text-align: right;\n",
              "    }\n",
              "</style>\n",
              "<table border=\"1\" class=\"dataframe\">\n",
              "  <thead>\n",
              "    <tr style=\"text-align: right;\">\n",
              "      <th></th>\n",
              "      <th>fixed_acidity</th>\n",
              "      <th>volatile_acidity</th>\n",
              "      <th>citric_acid</th>\n",
              "      <th>residual_sugar</th>\n",
              "      <th>chlorides</th>\n",
              "      <th>free_sulfur_dioxide</th>\n",
              "      <th>total_sulfur_dioxide</th>\n",
              "      <th>density</th>\n",
              "      <th>pH</th>\n",
              "      <th>sulphates</th>\n",
              "      <th>alcohol</th>\n",
              "      <th>quality</th>\n",
              "    </tr>\n",
              "  </thead>\n",
              "  <tbody>\n",
              "    <tr>\n",
              "      <th>count</th>\n",
              "      <td>9796.000000</td>\n",
              "      <td>9796.000000</td>\n",
              "      <td>9796.000000</td>\n",
              "      <td>9796.000000</td>\n",
              "      <td>9796.000000</td>\n",
              "      <td>9796.000000</td>\n",
              "      <td>9796.000000</td>\n",
              "      <td>9796.000000</td>\n",
              "      <td>9796.000000</td>\n",
              "      <td>9796.000000</td>\n",
              "      <td>9796.000000</td>\n",
              "      <td>9796.000000</td>\n",
              "    </tr>\n",
              "    <tr>\n",
              "      <th>mean</th>\n",
              "      <td>0.293730</td>\n",
              "      <td>0.194354</td>\n",
              "      <td>0.201320</td>\n",
              "      <td>0.088825</td>\n",
              "      <td>0.109117</td>\n",
              "      <td>0.116056</td>\n",
              "      <td>0.300141</td>\n",
              "      <td>0.133360</td>\n",
              "      <td>0.425697</td>\n",
              "      <td>0.313775</td>\n",
              "      <td>0.405527</td>\n",
              "      <td>5.877909</td>\n",
              "    </tr>\n",
              "    <tr>\n",
              "      <th>std</th>\n",
              "      <td>0.081137</td>\n",
              "      <td>0.098813</td>\n",
              "      <td>0.072900</td>\n",
              "      <td>0.077788</td>\n",
              "      <td>0.064827</td>\n",
              "      <td>0.059255</td>\n",
              "      <td>0.098598</td>\n",
              "      <td>0.057659</td>\n",
              "      <td>0.137266</td>\n",
              "      <td>0.132698</td>\n",
              "      <td>0.198477</td>\n",
              "      <td>0.885593</td>\n",
              "    </tr>\n",
              "    <tr>\n",
              "      <th>min</th>\n",
              "      <td>0.000000</td>\n",
              "      <td>0.000000</td>\n",
              "      <td>0.000000</td>\n",
              "      <td>0.000000</td>\n",
              "      <td>0.000000</td>\n",
              "      <td>0.000000</td>\n",
              "      <td>0.000000</td>\n",
              "      <td>0.000000</td>\n",
              "      <td>0.000000</td>\n",
              "      <td>0.000000</td>\n",
              "      <td>0.000000</td>\n",
              "      <td>3.000000</td>\n",
              "    </tr>\n",
              "    <tr>\n",
              "      <th>25%</th>\n",
              "      <td>0.240385</td>\n",
              "      <td>0.127451</td>\n",
              "      <td>0.162651</td>\n",
              "      <td>0.016871</td>\n",
              "      <td>0.080119</td>\n",
              "      <td>0.073171</td>\n",
              "      <td>0.229698</td>\n",
              "      <td>0.088876</td>\n",
              "      <td>0.336364</td>\n",
              "      <td>0.220930</td>\n",
              "      <td>0.241935</td>\n",
              "      <td>5.000000</td>\n",
              "    </tr>\n",
              "    <tr>\n",
              "      <th>50%</th>\n",
              "      <td>0.288462</td>\n",
              "      <td>0.176471</td>\n",
              "      <td>0.192771</td>\n",
              "      <td>0.070552</td>\n",
              "      <td>0.100890</td>\n",
              "      <td>0.111498</td>\n",
              "      <td>0.290023</td>\n",
              "      <td>0.127820</td>\n",
              "      <td>0.418182</td>\n",
              "      <td>0.290698</td>\n",
              "      <td>0.387097</td>\n",
              "      <td>6.000000</td>\n",
              "    </tr>\n",
              "    <tr>\n",
              "      <th>75%</th>\n",
              "      <td>0.336538</td>\n",
              "      <td>0.235294</td>\n",
              "      <td>0.234940</td>\n",
              "      <td>0.142638</td>\n",
              "      <td>0.121662</td>\n",
              "      <td>0.153310</td>\n",
              "      <td>0.366589</td>\n",
              "      <td>0.173318</td>\n",
              "      <td>0.509091</td>\n",
              "      <td>0.383721</td>\n",
              "      <td>0.548387</td>\n",
              "      <td>6.000000</td>\n",
              "    </tr>\n",
              "    <tr>\n",
              "      <th>max</th>\n",
              "      <td>1.000000</td>\n",
              "      <td>1.000000</td>\n",
              "      <td>1.000000</td>\n",
              "      <td>1.000000</td>\n",
              "      <td>1.000000</td>\n",
              "      <td>1.000000</td>\n",
              "      <td>1.000000</td>\n",
              "      <td>1.000000</td>\n",
              "      <td>1.000000</td>\n",
              "      <td>1.000000</td>\n",
              "      <td>1.000000</td>\n",
              "      <td>9.000000</td>\n",
              "    </tr>\n",
              "  </tbody>\n",
              "</table>\n",
              "</div>"
            ],
            "text/plain": [
              "       fixed_acidity  volatile_acidity  citric_acid  residual_sugar  \\\n",
              "count    9796.000000       9796.000000  9796.000000     9796.000000   \n",
              "mean        0.293730          0.194354     0.201320        0.088825   \n",
              "std         0.081137          0.098813     0.072900        0.077788   \n",
              "min         0.000000          0.000000     0.000000        0.000000   \n",
              "25%         0.240385          0.127451     0.162651        0.016871   \n",
              "50%         0.288462          0.176471     0.192771        0.070552   \n",
              "75%         0.336538          0.235294     0.234940        0.142638   \n",
              "max         1.000000          1.000000     1.000000        1.000000   \n",
              "\n",
              "         chlorides  free_sulfur_dioxide  total_sulfur_dioxide      density  \\\n",
              "count  9796.000000          9796.000000           9796.000000  9796.000000   \n",
              "mean      0.109117             0.116056              0.300141     0.133360   \n",
              "std       0.064827             0.059255              0.098598     0.057659   \n",
              "min       0.000000             0.000000              0.000000     0.000000   \n",
              "25%       0.080119             0.073171              0.229698     0.088876   \n",
              "50%       0.100890             0.111498              0.290023     0.127820   \n",
              "75%       0.121662             0.153310              0.366589     0.173318   \n",
              "max       1.000000             1.000000              1.000000     1.000000   \n",
              "\n",
              "                pH    sulphates      alcohol      quality  \n",
              "count  9796.000000  9796.000000  9796.000000  9796.000000  \n",
              "mean      0.425697     0.313775     0.405527     5.877909  \n",
              "std       0.137266     0.132698     0.198477     0.885593  \n",
              "min       0.000000     0.000000     0.000000     3.000000  \n",
              "25%       0.336364     0.220930     0.241935     5.000000  \n",
              "50%       0.418182     0.290698     0.387097     6.000000  \n",
              "75%       0.509091     0.383721     0.548387     6.000000  \n",
              "max       1.000000     1.000000     1.000000     9.000000  "
            ]
          },
          "execution_count": 13,
          "metadata": {},
          "output_type": "execute_result"
        }
      ],
      "source": [
        "numerical_features = data_wine.columns[1:-1]\n",
        "for feature_name in numerical_features:\n",
        "    max_value = data_wine[feature_name].max()\n",
        "    min_value = data_wine[feature_name].min()\n",
        "    data_wine[feature_name] = (data_wine[feature_name] - min_value) / (max_value - min_value)\n",
        "\n",
        "data_wine.describe()"
      ]
    },
    {
      "cell_type": "code",
      "execution_count": 14,
      "id": "bd51eecb",
      "metadata": {
        "colab": {
          "base_uri": "https://localhost:8080/",
          "height": 300
        },
        "id": "bd51eecb",
        "outputId": "f311ae41-b8be-4ce9-d293-211a06ec54a4"
      },
      "outputs": [
        {
          "name": "stderr",
          "output_type": "stream",
          "text": [
            "c:\\Users\\Asus\\AppData\\Local\\Programs\\Python\\Python310\\lib\\site-packages\\sklearn\\utils\\validation.py:605: FutureWarning: is_sparse is deprecated and will be removed in a future version. Check `isinstance(dtype, pd.SparseDtype)` instead.\n",
            "  if is_sparse(pd_dtype):\n",
            "c:\\Users\\Asus\\AppData\\Local\\Programs\\Python\\Python310\\lib\\site-packages\\sklearn\\utils\\validation.py:614: FutureWarning: is_sparse is deprecated and will be removed in a future version. Check `isinstance(dtype, pd.SparseDtype)` instead.\n",
            "  if is_sparse(pd_dtype) or not is_extension_array_dtype(pd_dtype):\n",
            "c:\\Users\\Asus\\AppData\\Local\\Programs\\Python\\Python310\\lib\\site-packages\\sklearn\\utils\\validation.py:767: FutureWarning: is_sparse is deprecated and will be removed in a future version. Check `isinstance(dtype, pd.SparseDtype)` instead.\n",
            "  if not hasattr(array, \"sparse\") and array.dtypes.apply(is_sparse).any():\n",
            "c:\\Users\\Asus\\AppData\\Local\\Programs\\Python\\Python310\\lib\\site-packages\\sklearn\\utils\\validation.py:605: FutureWarning: is_sparse is deprecated and will be removed in a future version. Check `isinstance(dtype, pd.SparseDtype)` instead.\n",
            "  if is_sparse(pd_dtype):\n",
            "c:\\Users\\Asus\\AppData\\Local\\Programs\\Python\\Python310\\lib\\site-packages\\sklearn\\utils\\validation.py:614: FutureWarning: is_sparse is deprecated and will be removed in a future version. Check `isinstance(dtype, pd.SparseDtype)` instead.\n",
            "  if is_sparse(pd_dtype) or not is_extension_array_dtype(pd_dtype):\n",
            "c:\\Users\\Asus\\AppData\\Local\\Programs\\Python\\Python310\\lib\\site-packages\\sklearn\\utils\\validation.py:767: FutureWarning: is_sparse is deprecated and will be removed in a future version. Check `isinstance(dtype, pd.SparseDtype)` instead.\n",
            "  if not hasattr(array, \"sparse\") and array.dtypes.apply(is_sparse).any():\n",
            "c:\\Users\\Asus\\AppData\\Local\\Programs\\Python\\Python310\\lib\\site-packages\\sklearn\\utils\\validation.py:605: FutureWarning: is_sparse is deprecated and will be removed in a future version. Check `isinstance(dtype, pd.SparseDtype)` instead.\n",
            "  if is_sparse(pd_dtype):\n",
            "c:\\Users\\Asus\\AppData\\Local\\Programs\\Python\\Python310\\lib\\site-packages\\sklearn\\utils\\validation.py:614: FutureWarning: is_sparse is deprecated and will be removed in a future version. Check `isinstance(dtype, pd.SparseDtype)` instead.\n",
            "  if is_sparse(pd_dtype) or not is_extension_array_dtype(pd_dtype):\n"
          ]
        },
        {
          "data": {
            "text/html": [
              "<div>\n",
              "<style scoped>\n",
              "    .dataframe tbody tr th:only-of-type {\n",
              "        vertical-align: middle;\n",
              "    }\n",
              "\n",
              "    .dataframe tbody tr th {\n",
              "        vertical-align: top;\n",
              "    }\n",
              "\n",
              "    .dataframe thead th {\n",
              "        text-align: right;\n",
              "    }\n",
              "</style>\n",
              "<table border=\"1\" class=\"dataframe\">\n",
              "  <thead>\n",
              "    <tr style=\"text-align: right;\">\n",
              "      <th></th>\n",
              "      <th>color</th>\n",
              "      <th>fixed_acidity</th>\n",
              "      <th>volatile_acidity</th>\n",
              "      <th>citric_acid</th>\n",
              "      <th>residual_sugar</th>\n",
              "      <th>chlorides</th>\n",
              "      <th>free_sulfur_dioxide</th>\n",
              "      <th>total_sulfur_dioxide</th>\n",
              "      <th>density</th>\n",
              "      <th>pH</th>\n",
              "      <th>sulphates</th>\n",
              "      <th>alcohol</th>\n",
              "      <th>quality</th>\n",
              "    </tr>\n",
              "  </thead>\n",
              "  <tbody>\n",
              "    <tr>\n",
              "      <th>count</th>\n",
              "      <td>9796.000000</td>\n",
              "      <td>9796.000000</td>\n",
              "      <td>9796.000000</td>\n",
              "      <td>9796.000000</td>\n",
              "      <td>9796.000000</td>\n",
              "      <td>9796.000000</td>\n",
              "      <td>9796.000000</td>\n",
              "      <td>9796.000000</td>\n",
              "      <td>9796.000000</td>\n",
              "      <td>9796.000000</td>\n",
              "      <td>9796.000000</td>\n",
              "      <td>9796.000000</td>\n",
              "      <td>9796.000000</td>\n",
              "    </tr>\n",
              "    <tr>\n",
              "      <th>mean</th>\n",
              "      <td>0.500000</td>\n",
              "      <td>0.293730</td>\n",
              "      <td>0.194354</td>\n",
              "      <td>0.201320</td>\n",
              "      <td>0.088825</td>\n",
              "      <td>0.109117</td>\n",
              "      <td>0.116056</td>\n",
              "      <td>0.300141</td>\n",
              "      <td>0.133360</td>\n",
              "      <td>0.425697</td>\n",
              "      <td>0.313775</td>\n",
              "      <td>0.405527</td>\n",
              "      <td>5.316864</td>\n",
              "    </tr>\n",
              "    <tr>\n",
              "      <th>std</th>\n",
              "      <td>0.500026</td>\n",
              "      <td>0.081137</td>\n",
              "      <td>0.098813</td>\n",
              "      <td>0.072900</td>\n",
              "      <td>0.077788</td>\n",
              "      <td>0.064827</td>\n",
              "      <td>0.059255</td>\n",
              "      <td>0.098598</td>\n",
              "      <td>0.057659</td>\n",
              "      <td>0.137266</td>\n",
              "      <td>0.132698</td>\n",
              "      <td>0.198477</td>\n",
              "      <td>1.328390</td>\n",
              "    </tr>\n",
              "    <tr>\n",
              "      <th>min</th>\n",
              "      <td>0.000000</td>\n",
              "      <td>0.000000</td>\n",
              "      <td>0.000000</td>\n",
              "      <td>0.000000</td>\n",
              "      <td>0.000000</td>\n",
              "      <td>0.000000</td>\n",
              "      <td>0.000000</td>\n",
              "      <td>0.000000</td>\n",
              "      <td>0.000000</td>\n",
              "      <td>0.000000</td>\n",
              "      <td>0.000000</td>\n",
              "      <td>0.000000</td>\n",
              "      <td>1.000000</td>\n",
              "    </tr>\n",
              "    <tr>\n",
              "      <th>25%</th>\n",
              "      <td>0.000000</td>\n",
              "      <td>0.240385</td>\n",
              "      <td>0.127451</td>\n",
              "      <td>0.162651</td>\n",
              "      <td>0.016871</td>\n",
              "      <td>0.080119</td>\n",
              "      <td>0.073171</td>\n",
              "      <td>0.229698</td>\n",
              "      <td>0.088876</td>\n",
              "      <td>0.336364</td>\n",
              "      <td>0.220930</td>\n",
              "      <td>0.241935</td>\n",
              "      <td>4.000000</td>\n",
              "    </tr>\n",
              "    <tr>\n",
              "      <th>50%</th>\n",
              "      <td>0.500000</td>\n",
              "      <td>0.288462</td>\n",
              "      <td>0.176471</td>\n",
              "      <td>0.192771</td>\n",
              "      <td>0.070552</td>\n",
              "      <td>0.100890</td>\n",
              "      <td>0.111498</td>\n",
              "      <td>0.290023</td>\n",
              "      <td>0.127820</td>\n",
              "      <td>0.418182</td>\n",
              "      <td>0.290698</td>\n",
              "      <td>0.387097</td>\n",
              "      <td>5.500000</td>\n",
              "    </tr>\n",
              "    <tr>\n",
              "      <th>75%</th>\n",
              "      <td>1.000000</td>\n",
              "      <td>0.336538</td>\n",
              "      <td>0.235294</td>\n",
              "      <td>0.234940</td>\n",
              "      <td>0.142638</td>\n",
              "      <td>0.121662</td>\n",
              "      <td>0.153310</td>\n",
              "      <td>0.366589</td>\n",
              "      <td>0.173318</td>\n",
              "      <td>0.509091</td>\n",
              "      <td>0.383721</td>\n",
              "      <td>0.548387</td>\n",
              "      <td>5.500000</td>\n",
              "    </tr>\n",
              "    <tr>\n",
              "      <th>max</th>\n",
              "      <td>1.000000</td>\n",
              "      <td>1.000000</td>\n",
              "      <td>1.000000</td>\n",
              "      <td>1.000000</td>\n",
              "      <td>1.000000</td>\n",
              "      <td>1.000000</td>\n",
              "      <td>1.000000</td>\n",
              "      <td>1.000000</td>\n",
              "      <td>1.000000</td>\n",
              "      <td>1.000000</td>\n",
              "      <td>1.000000</td>\n",
              "      <td>1.000000</td>\n",
              "      <td>10.000000</td>\n",
              "    </tr>\n",
              "  </tbody>\n",
              "</table>\n",
              "</div>"
            ],
            "text/plain": [
              "             color  fixed_acidity  volatile_acidity  citric_acid  \\\n",
              "count  9796.000000    9796.000000       9796.000000  9796.000000   \n",
              "mean      0.500000       0.293730          0.194354     0.201320   \n",
              "std       0.500026       0.081137          0.098813     0.072900   \n",
              "min       0.000000       0.000000          0.000000     0.000000   \n",
              "25%       0.000000       0.240385          0.127451     0.162651   \n",
              "50%       0.500000       0.288462          0.176471     0.192771   \n",
              "75%       1.000000       0.336538          0.235294     0.234940   \n",
              "max       1.000000       1.000000          1.000000     1.000000   \n",
              "\n",
              "       residual_sugar    chlorides  free_sulfur_dioxide  total_sulfur_dioxide  \\\n",
              "count     9796.000000  9796.000000          9796.000000           9796.000000   \n",
              "mean         0.088825     0.109117             0.116056              0.300141   \n",
              "std          0.077788     0.064827             0.059255              0.098598   \n",
              "min          0.000000     0.000000             0.000000              0.000000   \n",
              "25%          0.016871     0.080119             0.073171              0.229698   \n",
              "50%          0.070552     0.100890             0.111498              0.290023   \n",
              "75%          0.142638     0.121662             0.153310              0.366589   \n",
              "max          1.000000     1.000000             1.000000              1.000000   \n",
              "\n",
              "           density           pH    sulphates      alcohol      quality  \n",
              "count  9796.000000  9796.000000  9796.000000  9796.000000  9796.000000  \n",
              "mean      0.133360     0.425697     0.313775     0.405527     5.316864  \n",
              "std       0.057659     0.137266     0.132698     0.198477     1.328390  \n",
              "min       0.000000     0.000000     0.000000     0.000000     1.000000  \n",
              "25%       0.088876     0.336364     0.220930     0.241935     4.000000  \n",
              "50%       0.127820     0.418182     0.290698     0.387097     5.500000  \n",
              "75%       0.173318     0.509091     0.383721     0.548387     5.500000  \n",
              "max       1.000000     1.000000     1.000000     1.000000    10.000000  "
            ]
          },
          "execution_count": 14,
          "metadata": {},
          "output_type": "execute_result"
        }
      ],
      "source": [
        "from sklearn.preprocessing import LabelEncoder, MinMaxScaler\n",
        "\n",
        "\n",
        "label_encoder = LabelEncoder()\n",
        "data_wine['color'] = label_encoder.fit_transform(data_wine['color'])\n",
        "\n",
        "min_max_scaler = MinMaxScaler(feature_range=(1, 10))\n",
        "data_wine['quality'] = min_max_scaler.fit_transform(data_wine[['quality']])\n",
        "\n",
        "data_wine.describe()"
      ]
    },
    {
      "cell_type": "markdown",
      "id": "e18ab598",
      "metadata": {
        "id": "e18ab598"
      },
      "source": [
        "Since the total acidity is computed as the sum of the fixed acidity and the volatile acidity, these columns are replaced by a single one."
      ]
    },
    {
      "cell_type": "code",
      "execution_count": 15,
      "id": "ce11abc2",
      "metadata": {
        "colab": {
          "base_uri": "https://localhost:8080/",
          "height": 423
        },
        "id": "ce11abc2",
        "outputId": "872e7d88-c628-4ba0-903b-85576b1c7fb1"
      },
      "outputs": [
        {
          "data": {
            "text/html": [
              "<div>\n",
              "<style scoped>\n",
              "    .dataframe tbody tr th:only-of-type {\n",
              "        vertical-align: middle;\n",
              "    }\n",
              "\n",
              "    .dataframe tbody tr th {\n",
              "        vertical-align: top;\n",
              "    }\n",
              "\n",
              "    .dataframe thead th {\n",
              "        text-align: right;\n",
              "    }\n",
              "</style>\n",
              "<table border=\"1\" class=\"dataframe\">\n",
              "  <thead>\n",
              "    <tr style=\"text-align: right;\">\n",
              "      <th></th>\n",
              "      <th>color</th>\n",
              "      <th>acidity</th>\n",
              "      <th>residual_sugar</th>\n",
              "      <th>chlorides</th>\n",
              "      <th>free_sulfur_dioxide</th>\n",
              "      <th>total_sulfur_dioxide</th>\n",
              "      <th>density</th>\n",
              "      <th>pH</th>\n",
              "      <th>sulphates</th>\n",
              "      <th>alcohol</th>\n",
              "      <th>quality</th>\n",
              "    </tr>\n",
              "  </thead>\n",
              "  <tbody>\n",
              "    <tr>\n",
              "      <th>0</th>\n",
              "      <td>1</td>\n",
              "      <td>0.493967</td>\n",
              "      <td>0.308282</td>\n",
              "      <td>0.106825</td>\n",
              "      <td>0.149826</td>\n",
              "      <td>0.373550</td>\n",
              "      <td>0.267785</td>\n",
              "      <td>0.254545</td>\n",
              "      <td>0.267442</td>\n",
              "      <td>0.129032</td>\n",
              "      <td>5.5</td>\n",
              "    </tr>\n",
              "    <tr>\n",
              "      <th>1</th>\n",
              "      <td>1</td>\n",
              "      <td>0.456071</td>\n",
              "      <td>0.015337</td>\n",
              "      <td>0.118694</td>\n",
              "      <td>0.041812</td>\n",
              "      <td>0.285383</td>\n",
              "      <td>0.132832</td>\n",
              "      <td>0.527273</td>\n",
              "      <td>0.313953</td>\n",
              "      <td>0.241935</td>\n",
              "      <td>5.5</td>\n",
              "    </tr>\n",
              "    <tr>\n",
              "      <th>2</th>\n",
              "      <td>1</td>\n",
              "      <td>0.609540</td>\n",
              "      <td>0.096626</td>\n",
              "      <td>0.121662</td>\n",
              "      <td>0.097561</td>\n",
              "      <td>0.204176</td>\n",
              "      <td>0.154039</td>\n",
              "      <td>0.490909</td>\n",
              "      <td>0.255814</td>\n",
              "      <td>0.338710</td>\n",
              "      <td>5.5</td>\n",
              "    </tr>\n",
              "    <tr>\n",
              "      <th>3</th>\n",
              "      <td>1</td>\n",
              "      <td>0.473982</td>\n",
              "      <td>0.121166</td>\n",
              "      <td>0.145401</td>\n",
              "      <td>0.156794</td>\n",
              "      <td>0.410673</td>\n",
              "      <td>0.163678</td>\n",
              "      <td>0.427273</td>\n",
              "      <td>0.209302</td>\n",
              "      <td>0.306452</td>\n",
              "      <td>5.5</td>\n",
              "    </tr>\n",
              "    <tr>\n",
              "      <th>4</th>\n",
              "      <td>1</td>\n",
              "      <td>0.473982</td>\n",
              "      <td>0.121166</td>\n",
              "      <td>0.145401</td>\n",
              "      <td>0.156794</td>\n",
              "      <td>0.410673</td>\n",
              "      <td>0.163678</td>\n",
              "      <td>0.427273</td>\n",
              "      <td>0.209302</td>\n",
              "      <td>0.306452</td>\n",
              "      <td>5.5</td>\n",
              "    </tr>\n",
              "  </tbody>\n",
              "</table>\n",
              "</div>"
            ],
            "text/plain": [
              "   color   acidity  residual_sugar  chlorides  free_sulfur_dioxide  \\\n",
              "0      1  0.493967        0.308282   0.106825             0.149826   \n",
              "1      1  0.456071        0.015337   0.118694             0.041812   \n",
              "2      1  0.609540        0.096626   0.121662             0.097561   \n",
              "3      1  0.473982        0.121166   0.145401             0.156794   \n",
              "4      1  0.473982        0.121166   0.145401             0.156794   \n",
              "\n",
              "   total_sulfur_dioxide   density        pH  sulphates   alcohol  quality  \n",
              "0              0.373550  0.267785  0.254545   0.267442  0.129032      5.5  \n",
              "1              0.285383  0.132832  0.527273   0.313953  0.241935      5.5  \n",
              "2              0.204176  0.154039  0.490909   0.255814  0.338710      5.5  \n",
              "3              0.410673  0.163678  0.427273   0.209302  0.306452      5.5  \n",
              "4              0.410673  0.163678  0.427273   0.209302  0.306452      5.5  "
            ]
          },
          "execution_count": 15,
          "metadata": {},
          "output_type": "execute_result"
        }
      ],
      "source": [
        "data_wine = data_wine.drop('citric_acid', axis=1)\n",
        "data_wine.insert(1, 'acidity', data_wine['fixed_acidity'] + data_wine['volatile_acidity'])\n",
        "data_wine = data_wine.drop(['fixed_acidity', 'volatile_acidity'], axis=1)\n",
        "data_wine.head()"
      ]
    },
    {
      "cell_type": "code",
      "execution_count": 16,
      "id": "50kYcs7ZKHrx",
      "metadata": {
        "colab": {
          "base_uri": "https://localhost:8080/"
        },
        "id": "50kYcs7ZKHrx",
        "outputId": "0576107a-1dff-481b-c787-1e2ac1e1314b"
      },
      "outputs": [
        {
          "data": {
            "text/plain": [
              "(1874, (9796, 11))"
            ]
          },
          "execution_count": 16,
          "metadata": {},
          "output_type": "execute_result"
        }
      ],
      "source": [
        "data_wine.duplicated().sum(), data_wine.shape"
      ]
    },
    {
      "cell_type": "code",
      "execution_count": 17,
      "id": "xyBZzgUKKUgt",
      "metadata": {
        "colab": {
          "base_uri": "https://localhost:8080/"
        },
        "id": "xyBZzgUKKUgt",
        "outputId": "eba09744-c3f7-48a9-e25c-eeec3e22218a"
      },
      "outputs": [
        {
          "data": {
            "text/plain": [
              "0"
            ]
          },
          "execution_count": 17,
          "metadata": {},
          "output_type": "execute_result"
        }
      ],
      "source": [
        "data_wine.drop_duplicates(inplace=True)\n",
        "data_wine.duplicated().sum()"
      ]
    },
    {
      "cell_type": "code",
      "execution_count": 18,
      "id": "c9766aeb",
      "metadata": {
        "colab": {
          "base_uri": "https://localhost:8080/",
          "height": 726
        },
        "id": "c9766aeb",
        "outputId": "620445b5-29ce-4457-e590-a1769cdac802"
      },
      "outputs": [
        {
          "data": {
            "image/png": "[encoded data removed]",
            "text/plain": [
              "<Figure size 1000x700 with 2 Axes>"
            ]
          },
          "metadata": {},
          "output_type": "display_data"
        }
      ],
      "source": [
        "import seaborn as sns\n",
        "import matplotlib.pyplot as plt\n",
        "\n",
        "fig, ax = plt.subplots(figsize=(10, 7))\n",
        "dataplot = sns.heatmap(data_wine.corr(), annot=True, fmt='.2f')"
      ]
    },
    {
      "cell_type": "markdown",
      "id": "eb946e82",
      "metadata": {},
      "source": [
        "In most cases the wine composition on the labels consists only the percentage of alcohol and the sugar, so other features are removed."
      ]
    },
    {
      "cell_type": "code",
      "execution_count": 19,
      "id": "6fff9587",
      "metadata": {
        "id": "6fff9587"
      },
      "outputs": [],
      "source": [
        "del data_wine['color']\n",
        "del data_wine['acidity']\n",
        "del data_wine['chlorides']\n",
        "del data_wine['free_sulfur_dioxide']\n",
        "del data_wine['total_sulfur_dioxide']\n",
        "del data_wine['sulphates']\n",
        "del data_wine['density']\n",
        "del data_wine['pH']"
      ]
    },
    {
      "cell_type": "code",
      "execution_count": 20,
      "id": "6a10b5a9",
      "metadata": {},
      "outputs": [],
      "source": [
        "X = data_wine.drop(['quality'], axis=1)\n",
        "y = data_wine.quality"
      ]
    },
    {
      "cell_type": "code",
      "execution_count": 21,
      "id": "_CJzzcHRD9or",
      "metadata": {
        "id": "_CJzzcHRD9or"
      },
      "outputs": [
        {
          "name": "stderr",
          "output_type": "stream",
          "text": [
            "c:\\Users\\Asus\\AppData\\Local\\Programs\\Python\\Python310\\lib\\site-packages\\sklearn\\utils\\validation.py:605: FutureWarning: is_sparse is deprecated and will be removed in a future version. Check `isinstance(dtype, pd.SparseDtype)` instead.\n",
            "  if is_sparse(pd_dtype):\n",
            "c:\\Users\\Asus\\AppData\\Local\\Programs\\Python\\Python310\\lib\\site-packages\\sklearn\\utils\\validation.py:614: FutureWarning: is_sparse is deprecated and will be removed in a future version. Check `isinstance(dtype, pd.SparseDtype)` instead.\n",
            "  if is_sparse(pd_dtype) or not is_extension_array_dtype(pd_dtype):\n"
          ]
        }
      ],
      "source": [
        "from sklearn.preprocessing import LabelEncoder\n",
        "\n",
        "le = LabelEncoder()\n",
        "y = le.fit_transform(y)"
      ]
    },
    {
      "cell_type": "code",
      "execution_count": 22,
      "id": "3398b686",
      "metadata": {
        "colab": {
          "base_uri": "https://localhost:8080/"
        },
        "id": "3398b686",
        "outputId": "91c4c717-53d6-496a-cdaa-f442684813f1"
      },
      "outputs": [
        {
          "name": "stderr",
          "output_type": "stream",
          "text": [
            "c:\\Users\\Asus\\AppData\\Local\\Programs\\Python\\Python310\\lib\\site-packages\\sklearn\\utils\\validation.py:767: FutureWarning: is_sparse is deprecated and will be removed in a future version. Check `isinstance(dtype, pd.SparseDtype)` instead.\n",
            "  if not hasattr(array, \"sparse\") and array.dtypes.apply(is_sparse).any():\n",
            "c:\\Users\\Asus\\AppData\\Local\\Programs\\Python\\Python310\\lib\\site-packages\\sklearn\\utils\\validation.py:605: FutureWarning: is_sparse is deprecated and will be removed in a future version. Check `isinstance(dtype, pd.SparseDtype)` instead.\n",
            "  if is_sparse(pd_dtype):\n",
            "c:\\Users\\Asus\\AppData\\Local\\Programs\\Python\\Python310\\lib\\site-packages\\sklearn\\utils\\validation.py:614: FutureWarning: is_sparse is deprecated and will be removed in a future version. Check `isinstance(dtype, pd.SparseDtype)` instead.\n",
            "  if is_sparse(pd_dtype) or not is_extension_array_dtype(pd_dtype):\n"
          ]
        },
        {
          "data": {
            "text/plain": [
              "((25032, 2), (25032,))"
            ]
          },
          "execution_count": 22,
          "metadata": {},
          "output_type": "execute_result"
        }
      ],
      "source": [
        "from imblearn.over_sampling import SMOTE\n",
        "\n",
        "\n",
        "oversample = SMOTE(random_state=42)\n",
        "X, y = oversample.fit_resample(X, y)\n",
        "X.shape, y.shape"
      ]
    },
    {
      "cell_type": "code",
      "execution_count": 23,
      "id": "3081f62b",
      "metadata": {},
      "outputs": [
        {
          "data": {
            "text/plain": [
              "array([6.0, 6.0, 6.0, ..., 10.0, 10.0, 10.0], dtype=object)"
            ]
          },
          "execution_count": 23,
          "metadata": {},
          "output_type": "execute_result"
        }
      ],
      "source": [
        "new_min_max_scaler = MinMaxScaler(feature_range=(1, 10))\n",
        "y = new_min_max_scaler.fit_transform(y.reshape(-1, 1))\n",
        "y = y.reshape(y.shape[0])\n",
        "y = y.round(0)\n",
        "y = y.astype(object)\n",
        "y"
      ]
    },
    {
      "cell_type": "markdown",
      "id": "196230d6",
      "metadata": {
        "id": "196230d6"
      },
      "source": [
        "## Building Classifier"
      ]
    },
    {
      "cell_type": "code",
      "execution_count": 24,
      "id": "c38ace2b",
      "metadata": {
        "id": "c38ace2b"
      },
      "outputs": [],
      "source": [
        "from sklearn.model_selection import train_test_split\n",
        "from sklearn.preprocessing import StandardScaler"
      ]
    },
    {
      "cell_type": "code",
      "execution_count": 25,
      "id": "2c17aea0",
      "metadata": {
        "id": "2c17aea0"
      },
      "outputs": [
        {
          "data": {
            "text/plain": [
              "((20025, 2), (20025,), (5007, 2), (5007,))"
            ]
          },
          "execution_count": 25,
          "metadata": {},
          "output_type": "execute_result"
        }
      ],
      "source": [
        "X_train, X_test, y_train, y_test = train_test_split(X, y, test_size=0.2, random_state=0)\n",
        "X_train.shape, y_train.shape, X_test.shape, y_test.shape"
      ]
    },
    {
      "cell_type": "code",
      "execution_count": 26,
      "id": "ec4c90ef",
      "metadata": {
        "id": "ec4c90ef"
      },
      "outputs": [
        {
          "name": "stderr",
          "output_type": "stream",
          "text": [
            "c:\\Users\\Asus\\AppData\\Local\\Programs\\Python\\Python310\\lib\\site-packages\\sklearn\\utils\\validation.py:767: FutureWarning: is_sparse is deprecated and will be removed in a future version. Check `isinstance(dtype, pd.SparseDtype)` instead.\n",
            "  if not hasattr(array, \"sparse\") and array.dtypes.apply(is_sparse).any():\n",
            "c:\\Users\\Asus\\AppData\\Local\\Programs\\Python\\Python310\\lib\\site-packages\\sklearn\\utils\\validation.py:605: FutureWarning: is_sparse is deprecated and will be removed in a future version. Check `isinstance(dtype, pd.SparseDtype)` instead.\n",
            "  if is_sparse(pd_dtype):\n",
            "c:\\Users\\Asus\\AppData\\Local\\Programs\\Python\\Python310\\lib\\site-packages\\sklearn\\utils\\validation.py:614: FutureWarning: is_sparse is deprecated and will be removed in a future version. Check `isinstance(dtype, pd.SparseDtype)` instead.\n",
            "  if is_sparse(pd_dtype) or not is_extension_array_dtype(pd_dtype):\n",
            "c:\\Users\\Asus\\AppData\\Local\\Programs\\Python\\Python310\\lib\\site-packages\\sklearn\\utils\\validation.py:767: FutureWarning: is_sparse is deprecated and will be removed in a future version. Check `isinstance(dtype, pd.SparseDtype)` instead.\n",
            "  if not hasattr(array, \"sparse\") and array.dtypes.apply(is_sparse).any():\n",
            "c:\\Users\\Asus\\AppData\\Local\\Programs\\Python\\Python310\\lib\\site-packages\\sklearn\\utils\\validation.py:605: FutureWarning: is_sparse is deprecated and will be removed in a future version. Check `isinstance(dtype, pd.SparseDtype)` instead.\n",
            "  if is_sparse(pd_dtype):\n",
            "c:\\Users\\Asus\\AppData\\Local\\Programs\\Python\\Python310\\lib\\site-packages\\sklearn\\utils\\validation.py:614: FutureWarning: is_sparse is deprecated and will be removed in a future version. Check `isinstance(dtype, pd.SparseDtype)` instead.\n",
            "  if is_sparse(pd_dtype) or not is_extension_array_dtype(pd_dtype):\n",
            "c:\\Users\\Asus\\AppData\\Local\\Programs\\Python\\Python310\\lib\\site-packages\\sklearn\\utils\\validation.py:767: FutureWarning: is_sparse is deprecated and will be removed in a future version. Check `isinstance(dtype, pd.SparseDtype)` instead.\n",
            "  if not hasattr(array, \"sparse\") and array.dtypes.apply(is_sparse).any():\n",
            "c:\\Users\\Asus\\AppData\\Local\\Programs\\Python\\Python310\\lib\\site-packages\\sklearn\\utils\\validation.py:605: FutureWarning: is_sparse is deprecated and will be removed in a future version. Check `isinstance(dtype, pd.SparseDtype)` instead.\n",
            "  if is_sparse(pd_dtype):\n",
            "c:\\Users\\Asus\\AppData\\Local\\Programs\\Python\\Python310\\lib\\site-packages\\sklearn\\utils\\validation.py:614: FutureWarning: is_sparse is deprecated and will be removed in a future version. Check `isinstance(dtype, pd.SparseDtype)` instead.\n",
            "  if is_sparse(pd_dtype) or not is_extension_array_dtype(pd_dtype):\n"
          ]
        }
      ],
      "source": [
        "standard_scaler = StandardScaler()\n",
        "\n",
        "X_train = standard_scaler.fit_transform(X_train)\n",
        "X_test = standard_scaler.transform(X_test)"
      ]
    },
    {
      "cell_type": "code",
      "execution_count": 27,
      "id": "rQ8BxJN6Qc6D",
      "metadata": {
        "id": "rQ8BxJN6Qc6D"
      },
      "outputs": [],
      "source": [
        "X_train = np.asarray(X_train).astype(np.float32)\n",
        "y_train = np.asarray(y_train).astype(np.float32)\n",
        "\n",
        "X_test = np.asarray(X_test).astype(np.float32)\n",
        "y_test = np.asarray(y_test).astype(np.float32)"
      ]
    },
    {
      "cell_type": "code",
      "execution_count": 28,
      "id": "2aEzwc-RUdMn",
      "metadata": {
        "id": "2aEzwc-RUdMn"
      },
      "outputs": [],
      "source": [
        "from sklearn.ensemble import RandomForestClassifier\n",
        "\n",
        "rf = RandomForestClassifier(n_estimators=600, max_features=\"sqrt\")\n",
        "rf = rf.fit(X_train, y_train)"
      ]
    },
    {
      "cell_type": "code",
      "execution_count": 29,
      "id": "05274c0c",
      "metadata": {},
      "outputs": [],
      "source": [
        "y_pred = rf.predict(X_test)"
      ]
    },
    {
      "cell_type": "code",
      "execution_count": 30,
      "id": "43d219f4",
      "metadata": {},
      "outputs": [
        {
          "name": "stdout",
          "output_type": "stream",
          "text": [
            "Accuracy: 81.53 %\n"
          ]
        }
      ],
      "source": [
        "from sklearn.metrics import accuracy_score\n",
        "\n",
        "accuracy = accuracy_score(y_pred, y_test)\n",
        "print(\"Accuracy:\", round(accuracy*100, 2), \"%\")"
      ]
    },
    {
      "cell_type": "markdown",
      "id": "2becdf3a",
      "metadata": {},
      "source": [
        "# Labels text recognition"
      ]
    },
    {
      "cell_type": "code",
      "execution_count": 31,
      "id": "bezQjYy39M2k",
      "metadata": {
        "id": "bezQjYy39M2k"
      },
      "outputs": [],
      "source": [
        "import cv2\n",
        "import pytesseract\n",
        "import numpy as np"
      ]
    },
    {
      "cell_type": "code",
      "execution_count": 32,
      "id": "728e241b",
      "metadata": {},
      "outputs": [],
      "source": [
        "def get_composition(image):\n",
        "    \"\"\"\n",
        "    Get text from the wine label photo.\n",
        "    \"\"\"\n",
        "\n",
        "    label_text = pytesseract.image_to_string(image, lang='ukr')\n",
        "\n",
        "    return label_text"
      ]
    },
    {
      "cell_type": "code",
      "execution_count": 195,
      "id": "52b89f93",
      "metadata": {},
      "outputs": [],
      "source": [
        "def find_features(text):\n",
        "    \"\"\"\n",
        "    Find the percentage of alcohol and sugar in the wine.\n",
        "    \"\"\"\n",
        "\n",
        "    patterns = {\n",
        "        \"alcohol\" : r\"(?i)\" + r\"(Міцність|спирту:|\\nспирту|спирту)\" + r\"(.{6})\",  \n",
        "        \"sugar\" : r\"(?i)\" + r\"(цукру|Цукор|\\nцукру:|цукру:)\" + r\"(.{6})\"\n",
        "    }\n",
        "\n",
        "    matches = {}\n",
        "    for idx, pattern in patterns.items():\n",
        "        match = re.search(pattern, text)\n",
        "        if match:\n",
        "            matches[idx] = match.group(2)\n",
        "\n",
        "    return matches[\"alcohol\"], matches[\"sugar\"]\n",
        "    \n"
      ]
    },
    {
      "cell_type": "code",
      "execution_count": 34,
      "id": "090f48a1",
      "metadata": {},
      "outputs": [],
      "source": [
        "def get_alcohol_number(alcohol):\n",
        "    \"\"\"\n",
        "    Convert the found alcohol percentage into the number.\n",
        "    \"\"\"\n",
        "\n",
        "    pattern = r\"[0-9]+(?:\\.[0-9]+)?\"\n",
        "    match = re.search(pattern, alcohol[0])\n",
        "    if match:\n",
        "        return float(match.group(0))\n",
        "    else:\n",
        "        return 0\n"
      ]
    },
    {
      "cell_type": "code",
      "execution_count": 35,
      "id": "5b6fc664",
      "metadata": {},
      "outputs": [],
      "source": [
        "def get_sugar_number(sugar):\n",
        "    \"\"\"\n",
        "    Convert the found sugar percentage into the number\n",
        "    \"\"\"\n",
        "    \n",
        "    pattern = r\"[0-9]+(?:\\.[0-9]+)?\"\n",
        "    match = re.search(pattern, sugar[0])\n",
        "    if match:\n",
        "        return float(match.group(0))\n",
        "    else:\n",
        "        return 0"
      ]
    },
    {
      "cell_type": "code",
      "execution_count": 36,
      "id": "da307f01",
      "metadata": {},
      "outputs": [],
      "source": [
        "def evaluate_quality(image):\n",
        "    composition = get_composition(image)\n",
        "    alcohol, sugar = find_features(composition)\n",
        "    alcohol_number = get_alcohol_number(alcohol)\n",
        "    sugar_number = get_sugar_number(sugar)\n",
        "\n",
        "    features = np.array([[alcohol_number, sugar_number]])\n",
        "    score = rf.predict(features)\n",
        "\n",
        "    return score[0]\n"
      ]
    },
    {
      "cell_type": "code",
      "execution_count": 199,
      "id": "1c97c47c",
      "metadata": {},
      "outputs": [
        {
          "name": "stdout",
          "output_type": "stream",
          "text": [
            "Wine score: 6.0/10.0\n"
          ]
        }
      ],
      "source": [
        "im = cv2.imread('photos/1.jpg')\n",
        "print(\"Wine score: \" + str(evaluate_quality(im)) + \"/10.0\")"
      ]
    },
    {
      "cell_type": "code",
      "execution_count": null,
      "id": "2b903f61",
      "metadata": {},
      "outputs": [],
      "source": []
    }
  ],
  "metadata": {
    "colab": {
      "provenance": []
    },
    "kernelspec": {
      "display_name": "Python 3 (ipykernel)",
      "language": "python",
      "name": "python3"
    },
    "language_info": {
      "codemirror_mode": {
        "name": "ipython",
        "version": 3
      },
      "file_extension": ".py",
      "mimetype": "text/x-python",
      "name": "python",
      "nbconvert_exporter": "python",
      "pygments_lexer": "ipython3",
      "version": "3.10.2"
    }
  },
  "nbformat": 4,
  "nbformat_minor": 5
}
